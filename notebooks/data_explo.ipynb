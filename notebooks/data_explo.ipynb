{
 "cells": [
  {
   "cell_type": "code",
   "execution_count": null,
   "id": "6f5e629d-7aaa-4314-863f-81de55b8d273",
   "metadata": {},
   "outputs": [],
   "source": [
    "import sys\n",
    "sys.path.append(\"../src/\")\n",
    "from dataloaders import load_historique_info_trafic, load_zones_arrets, load_referentiel_lignes, load_arrets_et_lignes_associes\n",
    "from dotenv import load_dotenv\n",
    "import os\n",
    "\n",
    "load_dotenv()"
   ]
  },
  {
   "cell_type": "code",
   "execution_count": null,
   "id": "c25e39c1",
   "metadata": {},
   "outputs": [],
   "source": [
    "os.getenv(\"AWS_ACCESS_KEY_ID\")"
   ]
  },
  {
   "cell_type": "code",
   "execution_count": null,
   "id": "02d83bff-5370-49fb-8fe1-c852f0240119",
   "metadata": {},
   "outputs": [],
   "source": [
    "df = load_historique_info_trafic()"
   ]
  },
  {
   "cell_type": "code",
   "execution_count": null,
   "id": "9d040ff1-b128-4228-9848-7ac0465f2cfd",
   "metadata": {},
   "outputs": [],
   "source": [
    "df.columns"
   ]
  },
  {
   "cell_type": "code",
   "execution_count": null,
   "id": "a5028481",
   "metadata": {},
   "outputs": [],
   "source": [
    "df[\"severity.name\"].unique()"
   ]
  },
  {
   "cell_type": "code",
   "execution_count": null,
   "id": "79cfa5ff-96ff-4652-89e2-9f5f5d839387",
   "metadata": {},
   "outputs": [],
   "source": [
    "df[df[\"severity.name\"] == \"bloquante\"][\"messages_text\"][9]\n"
   ]
  },
  {
   "cell_type": "code",
   "execution_count": null,
   "id": "403f0ad4",
   "metadata": {},
   "outputs": [],
   "source": [
    "arr_li = load_arrets_et_lignes_associes()\n",
    "arr_li[arr_li[\"stop_name\"] == \"Michel Ange\"]"
   ]
  },
  {
   "cell_type": "code",
   "execution_count": null,
   "id": "c09be069",
   "metadata": {},
   "outputs": [],
   "source": [
    "import os\n",
    "os.getenv(\"AWS_ACCESS_KEY_ID\")"
   ]
  }
 ],
 "metadata": {
  "kernelspec": {
   "display_name": "base",
   "language": "python",
   "name": "python3"
  },
  "language_info": {
   "codemirror_mode": {
    "name": "ipython",
    "version": 3
   },
   "file_extension": ".py",
   "mimetype": "text/x-python",
   "name": "python",
   "nbconvert_exporter": "python",
   "pygments_lexer": "ipython3",
   "version": "3.12.6"
  }
 },
 "nbformat": 4,
 "nbformat_minor": 5
}
