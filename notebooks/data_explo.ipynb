{
 "cells": [
  {
   "cell_type": "code",
   "execution_count": null,
   "id": "6f5e629d-7aaa-4314-863f-81de55b8d273",
   "metadata": {},
   "outputs": [],
   "source": [
    "import pandas as pd\n",
    "import s3fs\n",
    "import os"
   ]
  },
  {
   "cell_type": "code",
   "execution_count": null,
   "id": "02d83bff-5370-49fb-8fe1-c852f0240119",
   "metadata": {},
   "outputs": [],
   "source": [
    "# Create filesystem object\n",
    "S3_ENDPOINT_URL = f\"https://{os.environ['AWS_S3_ENDPOINT']}\"\n",
    "fs = s3fs.S3FileSystem(client_kwargs={'endpoint_url': S3_ENDPOINT_URL})"
   ]
  },
  {
   "cell_type": "code",
   "execution_count": null,
   "id": "9d040ff1-b128-4228-9848-7ac0465f2cfd",
   "metadata": {},
   "outputs": [],
   "source": [
    "BUCKET = \"dlb-hackathon\"\n",
    "# FILE_KEY_S3 = \"datasets-diffusion/historique_info_trafic/historique_disruptions_2024.parquet\"\n",
    "FILE_KEY_S3 = \"equipe-10/zones-d-arrets.parquet\"\n",
    "\n",
    "FILE_PATH_S3 = f\"{BUCKET}/{FILE_KEY_S3}\"\n",
    "\n",
    "with fs.open(FILE_PATH_S3, mode=\"rb\") as file_in:\n",
    "    df = pd.read_parquet(file_in)"
   ]
  },
  {
   "cell_type": "code",
   "execution_count": null,
   "id": "79cfa5ff-96ff-4652-89e2-9f5f5d839387",
   "metadata": {},
   "outputs": [],
   "source": [
    "df[df[\"zdatype\"] == \"metroStation\"]"
   ]
  }
 ],
 "metadata": {
  "kernelspec": {
   "display_name": "base",
   "language": "python",
   "name": "python3"
  },
  "language_info": {
   "codemirror_mode": {
    "name": "ipython",
    "version": 3
   },
   "file_extension": ".py",
   "mimetype": "text/x-python",
   "name": "python",
   "nbconvert_exporter": "python",
   "pygments_lexer": "ipython3",
   "version": "3.12.6"
  }
 },
 "nbformat": 4,
 "nbformat_minor": 5
}
